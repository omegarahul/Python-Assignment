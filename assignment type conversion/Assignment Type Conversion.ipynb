{
 "cells": [
  {
   "cell_type": "markdown",
   "id": "26566bb6-824e-402d-902a-f5e1000fc27e",
   "metadata": {},
   "source": [
    "# Q1. Convert an integer to a floating—point number."
   ]
  },
  {
   "cell_type": "code",
   "execution_count": 3,
   "id": "991288fe-a465-43e6-ab83-a54327b79290",
   "metadata": {},
   "outputs": [
    {
     "name": "stdout",
     "output_type": "stream",
     "text": [
      "10.0\n",
      "<class 'float'>\n"
     ]
    }
   ],
   "source": [
    "#Let assign to a any integer number\n",
    "a = 10\n",
    "b = float(a)\n",
    "print(b)\n",
    "print(type(b))"
   ]
  },
  {
   "cell_type": "markdown",
   "id": "37281b88-8912-4cbb-b26c-af9dee0a27af",
   "metadata": {},
   "source": [
    "# Q2. Convert a float to an integer."
   ]
  },
  {
   "cell_type": "code",
   "execution_count": 4,
   "id": "5fb1b2f5-3657-4dc5-8564-374cd202eeca",
   "metadata": {},
   "outputs": [
    {
     "name": "stdout",
     "output_type": "stream",
     "text": [
      "20\n",
      "<class 'int'>\n"
     ]
    }
   ],
   "source": [
    "# Let assign to f a float number\n",
    "f = 20.0\n",
    "i = int(f)\n",
    "print(i)\n",
    "print (type(i))"
   ]
  },
  {
   "cell_type": "markdown",
   "id": "a8d6d6a1-7b38-4a40-a633-d89ec854e646",
   "metadata": {},
   "source": [
    "# Q3. Convert an integer to a string."
   ]
  },
  {
   "cell_type": "code",
   "execution_count": 5,
   "id": "00c90f92-5ef9-4f8b-99ca-f84b5e8656a2",
   "metadata": {},
   "outputs": [
    {
     "name": "stdout",
     "output_type": "stream",
     "text": [
      "10\n",
      "<class 'str'>\n"
     ]
    }
   ],
   "source": [
    "# Let assign i an integer\n",
    "i = 10\n",
    "s = str(i)\n",
    "print(s)\n",
    "print (type(s))"
   ]
  },
  {
   "cell_type": "markdown",
   "id": "5ce7a406-3229-4c7a-b4a2-a89a1b08d141",
   "metadata": {},
   "source": [
    "# Q4. Convert a list to a tuple."
   ]
  },
  {
   "cell_type": "code",
   "execution_count": 6,
   "id": "b9ea0627-6d4e-4752-9822-9954ddaa97f5",
   "metadata": {},
   "outputs": [
    {
     "name": "stdout",
     "output_type": "stream",
     "text": [
      "(10, 12, 12.5, 'Hello', 'Rahul')\n",
      "<class 'tuple'>\n"
     ]
    }
   ],
   "source": [
    "# let a list t\n",
    "l = [10,12,12.5,\"Hello\",\"Rahul\"]\n",
    "t = tuple(l)\n",
    "print (t)\n",
    "print (type(t))"
   ]
  },
  {
   "cell_type": "markdown",
   "id": "9a08ecbf-aee5-4393-a63f-81548833e670",
   "metadata": {},
   "source": [
    "# Q5. Convert a tuple to a list."
   ]
  },
  {
   "cell_type": "code",
   "execution_count": 7,
   "id": "3e97b61b-8922-4bf7-8ebd-7926c7433c4b",
   "metadata": {},
   "outputs": [
    {
     "name": "stdout",
     "output_type": "stream",
     "text": [
      "[12, 15, 20.1, 'World', 'PWSki11s']\n",
      "<class 'list'>\n"
     ]
    }
   ],
   "source": [
    "# Let a tuple\n",
    "t = (12,15,20.10, \"World\", \"PWSki11s\")\n",
    "l = list(t)\n",
    "print(l)\n",
    "print(type(l))"
   ]
  },
  {
   "cell_type": "markdown",
   "id": "a5d33864-41c3-41d6-b526-aa0955fb0cb1",
   "metadata": {},
   "source": [
    "# Q6. Convert a decimal number to binary."
   ]
  },
  {
   "cell_type": "code",
   "execution_count": 10,
   "id": "9fc2b36b-bc79-412b-b1b3-04e0e677a9c4",
   "metadata": {},
   "outputs": [
    {
     "name": "stdout",
     "output_type": "stream",
     "text": [
      "0b110\n"
     ]
    }
   ],
   "source": [
    "# Let d is a decimal number\n",
    "d = 6\n",
    "b = bin(d)\n",
    "print(b)"
   ]
  },
  {
   "cell_type": "markdown",
   "id": "3b15456d-f472-4d73-8ca6-734529b79dc3",
   "metadata": {},
   "source": [
    "# Q7. Convert a non-zero number to boolean."
   ]
  },
  {
   "cell_type": "code",
   "execution_count": 11,
   "id": "b08faf4d-86a7-4aa3-b605-de992bcf6657",
   "metadata": {},
   "outputs": [
    {
     "data": {
      "text/plain": [
       "True"
      ]
     },
     "execution_count": 11,
     "metadata": {},
     "output_type": "execute_result"
    }
   ],
   "source": [
    "# let assign 1 to a\n",
    "a = 1\n",
    "bool(a)"
   ]
  },
  {
   "cell_type": "code",
   "execution_count": null,
   "id": "e001a655-37f9-46cd-9b9e-df242986f93a",
   "metadata": {},
   "outputs": [],
   "source": []
  }
 ],
 "metadata": {
  "kernelspec": {
   "display_name": "Python 3 (ipykernel)",
   "language": "python",
   "name": "python3"
  },
  "language_info": {
   "codemirror_mode": {
    "name": "ipython",
    "version": 3
   },
   "file_extension": ".py",
   "mimetype": "text/x-python",
   "name": "python",
   "nbconvert_exporter": "python",
   "pygments_lexer": "ipython3",
   "version": "3.10.8"
  }
 },
 "nbformat": 4,
 "nbformat_minor": 5
}
